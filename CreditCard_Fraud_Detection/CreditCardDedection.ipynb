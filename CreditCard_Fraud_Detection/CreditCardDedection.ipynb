{
 "cells": [
  {
   "cell_type": "markdown",
   "id": "45e9b05f",
   "metadata": {},
   "source": [
    "## Importing the libraries"
   ]
  },
  {
   "cell_type": "code",
   "execution_count": 1,
   "id": "b37dbe56",
   "metadata": {},
   "outputs": [],
   "source": [
    "import pandas as pd\n",
    "import numpy as np\n",
    "import matplotlib.pyplot as plt\n",
    "import seaborn as sns\n",
    "import plotly.express as plot"
   ]
  },
  {
   "cell_type": "markdown",
   "id": "620a0656",
   "metadata": {},
   "source": [
    "## Loading the data"
   ]
  },
  {
   "cell_type": "code",
   "execution_count": 2,
   "id": "5d694611",
   "metadata": {},
   "outputs": [],
   "source": [
    "train_data=pd.read_csv('fraudTrain.csv')\n",
    "test_data=pd.read_csv('fraudTest.csv')"
   ]
  },
  {
   "cell_type": "code",
   "execution_count": 3,
   "id": "fc342691",
   "metadata": {},
   "outputs": [
    {
     "data": {
      "application/vnd.microsoft.datawrangler.viewer.v0+json": {
       "columns": [
        {
         "name": "index",
         "rawType": "int64",
         "type": "integer"
        },
        {
         "name": "Unnamed: 0",
         "rawType": "int64",
         "type": "integer"
        },
        {
         "name": "trans_date_trans_time",
         "rawType": "object",
         "type": "string"
        },
        {
         "name": "cc_num",
         "rawType": "int64",
         "type": "integer"
        },
        {
         "name": "merchant",
         "rawType": "object",
         "type": "string"
        },
        {
         "name": "category",
         "rawType": "object",
         "type": "string"
        },
        {
         "name": "amt",
         "rawType": "float64",
         "type": "float"
        },
        {
         "name": "first",
         "rawType": "object",
         "type": "string"
        },
        {
         "name": "last",
         "rawType": "object",
         "type": "string"
        },
        {
         "name": "gender",
         "rawType": "object",
         "type": "string"
        },
        {
         "name": "street",
         "rawType": "object",
         "type": "string"
        },
        {
         "name": "city",
         "rawType": "object",
         "type": "string"
        },
        {
         "name": "state",
         "rawType": "object",
         "type": "string"
        },
        {
         "name": "zip",
         "rawType": "int64",
         "type": "integer"
        },
        {
         "name": "lat",
         "rawType": "float64",
         "type": "float"
        },
        {
         "name": "long",
         "rawType": "float64",
         "type": "float"
        },
        {
         "name": "city_pop",
         "rawType": "int64",
         "type": "integer"
        },
        {
         "name": "job",
         "rawType": "object",
         "type": "string"
        },
        {
         "name": "dob",
         "rawType": "object",
         "type": "string"
        },
        {
         "name": "trans_num",
         "rawType": "object",
         "type": "string"
        },
        {
         "name": "unix_time",
         "rawType": "int64",
         "type": "integer"
        },
        {
         "name": "merch_lat",
         "rawType": "float64",
         "type": "float"
        },
        {
         "name": "merch_long",
         "rawType": "float64",
         "type": "float"
        },
        {
         "name": "is_fraud",
         "rawType": "int64",
         "type": "integer"
        }
       ],
       "ref": "86b273fa-7688-4fe8-a4fa-deb58eed2bd5",
       "rows": [
        [
         "0",
         "0",
         "2019-01-01 00:00:18",
         "2703186189652095",
         "fraud_Rippin, Kub and Mann",
         "misc_net",
         "4.97",
         "Jennifer",
         "Banks",
         "F",
         "561 Perry Cove",
         "Moravian Falls",
         "NC",
         "28654",
         "36.0788",
         "-81.1781",
         "3495",
         "Psychologist, counselling",
         "1988-03-09",
         "0b242abb623afc578575680df30655b9",
         "1325376018",
         "36.011293",
         "-82.048315",
         "0"
        ],
        [
         "1",
         "1",
         "2019-01-01 00:00:44",
         "630423337322",
         "fraud_Heller, Gutmann and Zieme",
         "grocery_pos",
         "107.23",
         "Stephanie",
         "Gill",
         "F",
         "43039 Riley Greens Suite 393",
         "Orient",
         "WA",
         "99160",
         "48.8878",
         "-118.2105",
         "149",
         "Special educational needs teacher",
         "1978-06-21",
         "1f76529f8574734946361c461b024d99",
         "1325376044",
         "49.159047",
         "-118.186462",
         "0"
        ],
        [
         "2",
         "2",
         "2019-01-01 00:00:51",
         "38859492057661",
         "fraud_Lind-Buckridge",
         "entertainment",
         "220.11",
         "Edward",
         "Sanchez",
         "M",
         "594 White Dale Suite 530",
         "Malad City",
         "ID",
         "83252",
         "42.1808",
         "-112.262",
         "4154",
         "Nature conservation officer",
         "1962-01-19",
         "a1a22d70485983eac12b5b88dad1cf95",
         "1325376051",
         "43.150704",
         "-112.154481",
         "0"
        ],
        [
         "3",
         "3",
         "2019-01-01 00:01:16",
         "3534093764340240",
         "fraud_Kutch, Hermiston and Farrell",
         "gas_transport",
         "45.0",
         "Jeremy",
         "White",
         "M",
         "9443 Cynthia Court Apt. 038",
         "Boulder",
         "MT",
         "59632",
         "46.2306",
         "-112.1138",
         "1939",
         "Patent attorney",
         "1967-01-12",
         "6b849c168bdad6f867558c3793159a81",
         "1325376076",
         "47.034331",
         "-112.561071",
         "0"
        ],
        [
         "4",
         "4",
         "2019-01-01 00:03:06",
         "375534208663984",
         "fraud_Keeling-Crist",
         "misc_pos",
         "41.96",
         "Tyler",
         "Garcia",
         "M",
         "408 Bradley Rest",
         "Doe Hill",
         "VA",
         "24433",
         "38.4207",
         "-79.4629",
         "99",
         "Dance movement psychotherapist",
         "1986-03-28",
         "a41d7549acf90789359a9aa5346dcb46",
         "1325376186",
         "38.674999",
         "-78.632459",
         "0"
        ]
       ],
       "shape": {
        "columns": 23,
        "rows": 5
       }
      },
      "text/html": [
       "<div>\n",
       "<style scoped>\n",
       "    .dataframe tbody tr th:only-of-type {\n",
       "        vertical-align: middle;\n",
       "    }\n",
       "\n",
       "    .dataframe tbody tr th {\n",
       "        vertical-align: top;\n",
       "    }\n",
       "\n",
       "    .dataframe thead th {\n",
       "        text-align: right;\n",
       "    }\n",
       "</style>\n",
       "<table border=\"1\" class=\"dataframe\">\n",
       "  <thead>\n",
       "    <tr style=\"text-align: right;\">\n",
       "      <th></th>\n",
       "      <th>Unnamed: 0</th>\n",
       "      <th>trans_date_trans_time</th>\n",
       "      <th>cc_num</th>\n",
       "      <th>merchant</th>\n",
       "      <th>category</th>\n",
       "      <th>amt</th>\n",
       "      <th>first</th>\n",
       "      <th>last</th>\n",
       "      <th>gender</th>\n",
       "      <th>street</th>\n",
       "      <th>...</th>\n",
       "      <th>lat</th>\n",
       "      <th>long</th>\n",
       "      <th>city_pop</th>\n",
       "      <th>job</th>\n",
       "      <th>dob</th>\n",
       "      <th>trans_num</th>\n",
       "      <th>unix_time</th>\n",
       "      <th>merch_lat</th>\n",
       "      <th>merch_long</th>\n",
       "      <th>is_fraud</th>\n",
       "    </tr>\n",
       "  </thead>\n",
       "  <tbody>\n",
       "    <tr>\n",
       "      <th>0</th>\n",
       "      <td>0</td>\n",
       "      <td>2019-01-01 00:00:18</td>\n",
       "      <td>2703186189652095</td>\n",
       "      <td>fraud_Rippin, Kub and Mann</td>\n",
       "      <td>misc_net</td>\n",
       "      <td>4.97</td>\n",
       "      <td>Jennifer</td>\n",
       "      <td>Banks</td>\n",
       "      <td>F</td>\n",
       "      <td>561 Perry Cove</td>\n",
       "      <td>...</td>\n",
       "      <td>36.0788</td>\n",
       "      <td>-81.1781</td>\n",
       "      <td>3495</td>\n",
       "      <td>Psychologist, counselling</td>\n",
       "      <td>1988-03-09</td>\n",
       "      <td>0b242abb623afc578575680df30655b9</td>\n",
       "      <td>1325376018</td>\n",
       "      <td>36.011293</td>\n",
       "      <td>-82.048315</td>\n",
       "      <td>0</td>\n",
       "    </tr>\n",
       "    <tr>\n",
       "      <th>1</th>\n",
       "      <td>1</td>\n",
       "      <td>2019-01-01 00:00:44</td>\n",
       "      <td>630423337322</td>\n",
       "      <td>fraud_Heller, Gutmann and Zieme</td>\n",
       "      <td>grocery_pos</td>\n",
       "      <td>107.23</td>\n",
       "      <td>Stephanie</td>\n",
       "      <td>Gill</td>\n",
       "      <td>F</td>\n",
       "      <td>43039 Riley Greens Suite 393</td>\n",
       "      <td>...</td>\n",
       "      <td>48.8878</td>\n",
       "      <td>-118.2105</td>\n",
       "      <td>149</td>\n",
       "      <td>Special educational needs teacher</td>\n",
       "      <td>1978-06-21</td>\n",
       "      <td>1f76529f8574734946361c461b024d99</td>\n",
       "      <td>1325376044</td>\n",
       "      <td>49.159047</td>\n",
       "      <td>-118.186462</td>\n",
       "      <td>0</td>\n",
       "    </tr>\n",
       "    <tr>\n",
       "      <th>2</th>\n",
       "      <td>2</td>\n",
       "      <td>2019-01-01 00:00:51</td>\n",
       "      <td>38859492057661</td>\n",
       "      <td>fraud_Lind-Buckridge</td>\n",
       "      <td>entertainment</td>\n",
       "      <td>220.11</td>\n",
       "      <td>Edward</td>\n",
       "      <td>Sanchez</td>\n",
       "      <td>M</td>\n",
       "      <td>594 White Dale Suite 530</td>\n",
       "      <td>...</td>\n",
       "      <td>42.1808</td>\n",
       "      <td>-112.2620</td>\n",
       "      <td>4154</td>\n",
       "      <td>Nature conservation officer</td>\n",
       "      <td>1962-01-19</td>\n",
       "      <td>a1a22d70485983eac12b5b88dad1cf95</td>\n",
       "      <td>1325376051</td>\n",
       "      <td>43.150704</td>\n",
       "      <td>-112.154481</td>\n",
       "      <td>0</td>\n",
       "    </tr>\n",
       "    <tr>\n",
       "      <th>3</th>\n",
       "      <td>3</td>\n",
       "      <td>2019-01-01 00:01:16</td>\n",
       "      <td>3534093764340240</td>\n",
       "      <td>fraud_Kutch, Hermiston and Farrell</td>\n",
       "      <td>gas_transport</td>\n",
       "      <td>45.00</td>\n",
       "      <td>Jeremy</td>\n",
       "      <td>White</td>\n",
       "      <td>M</td>\n",
       "      <td>9443 Cynthia Court Apt. 038</td>\n",
       "      <td>...</td>\n",
       "      <td>46.2306</td>\n",
       "      <td>-112.1138</td>\n",
       "      <td>1939</td>\n",
       "      <td>Patent attorney</td>\n",
       "      <td>1967-01-12</td>\n",
       "      <td>6b849c168bdad6f867558c3793159a81</td>\n",
       "      <td>1325376076</td>\n",
       "      <td>47.034331</td>\n",
       "      <td>-112.561071</td>\n",
       "      <td>0</td>\n",
       "    </tr>\n",
       "    <tr>\n",
       "      <th>4</th>\n",
       "      <td>4</td>\n",
       "      <td>2019-01-01 00:03:06</td>\n",
       "      <td>375534208663984</td>\n",
       "      <td>fraud_Keeling-Crist</td>\n",
       "      <td>misc_pos</td>\n",
       "      <td>41.96</td>\n",
       "      <td>Tyler</td>\n",
       "      <td>Garcia</td>\n",
       "      <td>M</td>\n",
       "      <td>408 Bradley Rest</td>\n",
       "      <td>...</td>\n",
       "      <td>38.4207</td>\n",
       "      <td>-79.4629</td>\n",
       "      <td>99</td>\n",
       "      <td>Dance movement psychotherapist</td>\n",
       "      <td>1986-03-28</td>\n",
       "      <td>a41d7549acf90789359a9aa5346dcb46</td>\n",
       "      <td>1325376186</td>\n",
       "      <td>38.674999</td>\n",
       "      <td>-78.632459</td>\n",
       "      <td>0</td>\n",
       "    </tr>\n",
       "  </tbody>\n",
       "</table>\n",
       "<p>5 rows × 23 columns</p>\n",
       "</div>"
      ],
      "text/plain": [
       "   Unnamed: 0 trans_date_trans_time            cc_num  \\\n",
       "0           0   2019-01-01 00:00:18  2703186189652095   \n",
       "1           1   2019-01-01 00:00:44      630423337322   \n",
       "2           2   2019-01-01 00:00:51    38859492057661   \n",
       "3           3   2019-01-01 00:01:16  3534093764340240   \n",
       "4           4   2019-01-01 00:03:06   375534208663984   \n",
       "\n",
       "                             merchant       category     amt      first  \\\n",
       "0          fraud_Rippin, Kub and Mann       misc_net    4.97   Jennifer   \n",
       "1     fraud_Heller, Gutmann and Zieme    grocery_pos  107.23  Stephanie   \n",
       "2                fraud_Lind-Buckridge  entertainment  220.11     Edward   \n",
       "3  fraud_Kutch, Hermiston and Farrell  gas_transport   45.00     Jeremy   \n",
       "4                 fraud_Keeling-Crist       misc_pos   41.96      Tyler   \n",
       "\n",
       "      last gender                        street  ...      lat      long  \\\n",
       "0    Banks      F                561 Perry Cove  ...  36.0788  -81.1781   \n",
       "1     Gill      F  43039 Riley Greens Suite 393  ...  48.8878 -118.2105   \n",
       "2  Sanchez      M      594 White Dale Suite 530  ...  42.1808 -112.2620   \n",
       "3    White      M   9443 Cynthia Court Apt. 038  ...  46.2306 -112.1138   \n",
       "4   Garcia      M              408 Bradley Rest  ...  38.4207  -79.4629   \n",
       "\n",
       "   city_pop                                job         dob  \\\n",
       "0      3495          Psychologist, counselling  1988-03-09   \n",
       "1       149  Special educational needs teacher  1978-06-21   \n",
       "2      4154        Nature conservation officer  1962-01-19   \n",
       "3      1939                    Patent attorney  1967-01-12   \n",
       "4        99     Dance movement psychotherapist  1986-03-28   \n",
       "\n",
       "                          trans_num   unix_time  merch_lat  merch_long  \\\n",
       "0  0b242abb623afc578575680df30655b9  1325376018  36.011293  -82.048315   \n",
       "1  1f76529f8574734946361c461b024d99  1325376044  49.159047 -118.186462   \n",
       "2  a1a22d70485983eac12b5b88dad1cf95  1325376051  43.150704 -112.154481   \n",
       "3  6b849c168bdad6f867558c3793159a81  1325376076  47.034331 -112.561071   \n",
       "4  a41d7549acf90789359a9aa5346dcb46  1325376186  38.674999  -78.632459   \n",
       "\n",
       "   is_fraud  \n",
       "0         0  \n",
       "1         0  \n",
       "2         0  \n",
       "3         0  \n",
       "4         0  \n",
       "\n",
       "[5 rows x 23 columns]"
      ]
     },
     "execution_count": 3,
     "metadata": {},
     "output_type": "execute_result"
    }
   ],
   "source": [
    "train_data.head()"
   ]
  },
  {
   "cell_type": "code",
   "execution_count": 4,
   "id": "d26c2af3",
   "metadata": {},
   "outputs": [
    {
     "name": "stdout",
     "output_type": "stream",
     "text": [
      "<class 'pandas.core.frame.DataFrame'>\n",
      "RangeIndex: 1296675 entries, 0 to 1296674\n",
      "Data columns (total 23 columns):\n",
      " #   Column                 Non-Null Count    Dtype  \n",
      "---  ------                 --------------    -----  \n",
      " 0   Unnamed: 0             1296675 non-null  int64  \n",
      " 1   trans_date_trans_time  1296675 non-null  object \n",
      " 2   cc_num                 1296675 non-null  int64  \n",
      " 3   merchant               1296675 non-null  object \n",
      " 4   category               1296675 non-null  object \n",
      " 5   amt                    1296675 non-null  float64\n",
      " 6   first                  1296675 non-null  object \n",
      " 7   last                   1296675 non-null  object \n",
      " 8   gender                 1296675 non-null  object \n",
      " 9   street                 1296675 non-null  object \n",
      " 10  city                   1296675 non-null  object \n",
      " 11  state                  1296675 non-null  object \n",
      " 12  zip                    1296675 non-null  int64  \n",
      " 13  lat                    1296675 non-null  float64\n",
      " 14  long                   1296675 non-null  float64\n",
      " 15  city_pop               1296675 non-null  int64  \n",
      " 16  job                    1296675 non-null  object \n",
      " 17  dob                    1296675 non-null  object \n",
      " 18  trans_num              1296675 non-null  object \n",
      " 19  unix_time              1296675 non-null  int64  \n",
      " 20  merch_lat              1296675 non-null  float64\n",
      " 21  merch_long             1296675 non-null  float64\n",
      " 22  is_fraud               1296675 non-null  int64  \n",
      "dtypes: float64(5), int64(6), object(12)\n",
      "memory usage: 227.5+ MB\n"
     ]
    }
   ],
   "source": [
    "train_data.info()"
   ]
  },
  {
   "cell_type": "code",
   "execution_count": 5,
   "id": "6a31b899",
   "metadata": {},
   "outputs": [
    {
     "data": {
      "application/vnd.microsoft.datawrangler.viewer.v0+json": {
       "columns": [
        {
         "name": "index",
         "rawType": "object",
         "type": "string"
        },
        {
         "name": "Unnamed: 0",
         "rawType": "float64",
         "type": "float"
        },
        {
         "name": "cc_num",
         "rawType": "float64",
         "type": "float"
        },
        {
         "name": "amt",
         "rawType": "float64",
         "type": "float"
        },
        {
         "name": "zip",
         "rawType": "float64",
         "type": "float"
        },
        {
         "name": "lat",
         "rawType": "float64",
         "type": "float"
        },
        {
         "name": "long",
         "rawType": "float64",
         "type": "float"
        },
        {
         "name": "city_pop",
         "rawType": "float64",
         "type": "float"
        },
        {
         "name": "unix_time",
         "rawType": "float64",
         "type": "float"
        },
        {
         "name": "merch_lat",
         "rawType": "float64",
         "type": "float"
        },
        {
         "name": "merch_long",
         "rawType": "float64",
         "type": "float"
        },
        {
         "name": "is_fraud",
         "rawType": "float64",
         "type": "float"
        }
       ],
       "ref": "53bb7f33-c1a2-4a1f-9bf2-7d5df9947092",
       "rows": [
        [
         "count",
         "1296675.0",
         "1296675.0",
         "1296675.0",
         "1296675.0",
         "1296675.0",
         "1296675.0",
         "1296675.0",
         "1296675.0",
         "1296675.0",
         "1296675.0",
         "1296675.0"
        ],
        [
         "mean",
         "648337.0",
         "4.1719204207972666e+17",
         "70.35103545607033",
         "48800.67109722945",
         "38.53762161489965",
         "-90.22633537864147",
         "88824.44056297839",
         "1349243636.7261226",
         "38.53733804469971",
         "-90.22646479897277",
         "0.005788651743883394"
        ],
        [
         "std",
         "374317.9744882877",
         "1.3088064470007892e+18",
         "160.3160385715229",
         "26893.222476486044",
         "5.075808438805398",
         "13.75907694648405",
         "301956.360688689",
         "12841278.423359623",
         "5.109788369679269",
         "13.771090564792381",
         "0.07586268973075183"
        ],
        [
         "min",
         "0.0",
         "60416207185.0",
         "1.0",
         "1257.0",
         "20.0271",
         "-165.6723",
         "23.0",
         "1325376018.0",
         "19.027785",
         "-166.671242",
         "0.0"
        ],
        [
         "25%",
         "324168.5",
         "180042946491150.0",
         "9.65",
         "26237.0",
         "34.6205",
         "-96.798",
         "743.0",
         "1338750742.5",
         "34.733572",
         "-96.8972755",
         "0.0"
        ],
        [
         "50%",
         "648337.0",
         "3521417320836166.0",
         "47.52",
         "48174.0",
         "39.3543",
         "-87.4769",
         "2456.0",
         "1349249747.0",
         "39.36568",
         "-87.43839200000001",
         "0.0"
        ],
        [
         "75%",
         "972505.5",
         "4642255475285942.0",
         "83.14",
         "72042.0",
         "41.9404",
         "-80.158",
         "20328.0",
         "1359385375.5",
         "41.957164",
         "-80.2367965",
         "0.0"
        ],
        [
         "max",
         "1296674.0",
         "4.992346398065154e+18",
         "28948.9",
         "99783.0",
         "66.6933",
         "-67.9503",
         "2906700.0",
         "1371816817.0",
         "67.510267",
         "-66.950902",
         "1.0"
        ]
       ],
       "shape": {
        "columns": 11,
        "rows": 8
       }
      },
      "text/html": [
       "<div>\n",
       "<style scoped>\n",
       "    .dataframe tbody tr th:only-of-type {\n",
       "        vertical-align: middle;\n",
       "    }\n",
       "\n",
       "    .dataframe tbody tr th {\n",
       "        vertical-align: top;\n",
       "    }\n",
       "\n",
       "    .dataframe thead th {\n",
       "        text-align: right;\n",
       "    }\n",
       "</style>\n",
       "<table border=\"1\" class=\"dataframe\">\n",
       "  <thead>\n",
       "    <tr style=\"text-align: right;\">\n",
       "      <th></th>\n",
       "      <th>Unnamed: 0</th>\n",
       "      <th>cc_num</th>\n",
       "      <th>amt</th>\n",
       "      <th>zip</th>\n",
       "      <th>lat</th>\n",
       "      <th>long</th>\n",
       "      <th>city_pop</th>\n",
       "      <th>unix_time</th>\n",
       "      <th>merch_lat</th>\n",
       "      <th>merch_long</th>\n",
       "      <th>is_fraud</th>\n",
       "    </tr>\n",
       "  </thead>\n",
       "  <tbody>\n",
       "    <tr>\n",
       "      <th>count</th>\n",
       "      <td>1.296675e+06</td>\n",
       "      <td>1.296675e+06</td>\n",
       "      <td>1.296675e+06</td>\n",
       "      <td>1.296675e+06</td>\n",
       "      <td>1.296675e+06</td>\n",
       "      <td>1.296675e+06</td>\n",
       "      <td>1.296675e+06</td>\n",
       "      <td>1.296675e+06</td>\n",
       "      <td>1.296675e+06</td>\n",
       "      <td>1.296675e+06</td>\n",
       "      <td>1.296675e+06</td>\n",
       "    </tr>\n",
       "    <tr>\n",
       "      <th>mean</th>\n",
       "      <td>6.483370e+05</td>\n",
       "      <td>4.171920e+17</td>\n",
       "      <td>7.035104e+01</td>\n",
       "      <td>4.880067e+04</td>\n",
       "      <td>3.853762e+01</td>\n",
       "      <td>-9.022634e+01</td>\n",
       "      <td>8.882444e+04</td>\n",
       "      <td>1.349244e+09</td>\n",
       "      <td>3.853734e+01</td>\n",
       "      <td>-9.022646e+01</td>\n",
       "      <td>5.788652e-03</td>\n",
       "    </tr>\n",
       "    <tr>\n",
       "      <th>std</th>\n",
       "      <td>3.743180e+05</td>\n",
       "      <td>1.308806e+18</td>\n",
       "      <td>1.603160e+02</td>\n",
       "      <td>2.689322e+04</td>\n",
       "      <td>5.075808e+00</td>\n",
       "      <td>1.375908e+01</td>\n",
       "      <td>3.019564e+05</td>\n",
       "      <td>1.284128e+07</td>\n",
       "      <td>5.109788e+00</td>\n",
       "      <td>1.377109e+01</td>\n",
       "      <td>7.586269e-02</td>\n",
       "    </tr>\n",
       "    <tr>\n",
       "      <th>min</th>\n",
       "      <td>0.000000e+00</td>\n",
       "      <td>6.041621e+10</td>\n",
       "      <td>1.000000e+00</td>\n",
       "      <td>1.257000e+03</td>\n",
       "      <td>2.002710e+01</td>\n",
       "      <td>-1.656723e+02</td>\n",
       "      <td>2.300000e+01</td>\n",
       "      <td>1.325376e+09</td>\n",
       "      <td>1.902779e+01</td>\n",
       "      <td>-1.666712e+02</td>\n",
       "      <td>0.000000e+00</td>\n",
       "    </tr>\n",
       "    <tr>\n",
       "      <th>25%</th>\n",
       "      <td>3.241685e+05</td>\n",
       "      <td>1.800429e+14</td>\n",
       "      <td>9.650000e+00</td>\n",
       "      <td>2.623700e+04</td>\n",
       "      <td>3.462050e+01</td>\n",
       "      <td>-9.679800e+01</td>\n",
       "      <td>7.430000e+02</td>\n",
       "      <td>1.338751e+09</td>\n",
       "      <td>3.473357e+01</td>\n",
       "      <td>-9.689728e+01</td>\n",
       "      <td>0.000000e+00</td>\n",
       "    </tr>\n",
       "    <tr>\n",
       "      <th>50%</th>\n",
       "      <td>6.483370e+05</td>\n",
       "      <td>3.521417e+15</td>\n",
       "      <td>4.752000e+01</td>\n",
       "      <td>4.817400e+04</td>\n",
       "      <td>3.935430e+01</td>\n",
       "      <td>-8.747690e+01</td>\n",
       "      <td>2.456000e+03</td>\n",
       "      <td>1.349250e+09</td>\n",
       "      <td>3.936568e+01</td>\n",
       "      <td>-8.743839e+01</td>\n",
       "      <td>0.000000e+00</td>\n",
       "    </tr>\n",
       "    <tr>\n",
       "      <th>75%</th>\n",
       "      <td>9.725055e+05</td>\n",
       "      <td>4.642255e+15</td>\n",
       "      <td>8.314000e+01</td>\n",
       "      <td>7.204200e+04</td>\n",
       "      <td>4.194040e+01</td>\n",
       "      <td>-8.015800e+01</td>\n",
       "      <td>2.032800e+04</td>\n",
       "      <td>1.359385e+09</td>\n",
       "      <td>4.195716e+01</td>\n",
       "      <td>-8.023680e+01</td>\n",
       "      <td>0.000000e+00</td>\n",
       "    </tr>\n",
       "    <tr>\n",
       "      <th>max</th>\n",
       "      <td>1.296674e+06</td>\n",
       "      <td>4.992346e+18</td>\n",
       "      <td>2.894890e+04</td>\n",
       "      <td>9.978300e+04</td>\n",
       "      <td>6.669330e+01</td>\n",
       "      <td>-6.795030e+01</td>\n",
       "      <td>2.906700e+06</td>\n",
       "      <td>1.371817e+09</td>\n",
       "      <td>6.751027e+01</td>\n",
       "      <td>-6.695090e+01</td>\n",
       "      <td>1.000000e+00</td>\n",
       "    </tr>\n",
       "  </tbody>\n",
       "</table>\n",
       "</div>"
      ],
      "text/plain": [
       "         Unnamed: 0        cc_num           amt           zip           lat  \\\n",
       "count  1.296675e+06  1.296675e+06  1.296675e+06  1.296675e+06  1.296675e+06   \n",
       "mean   6.483370e+05  4.171920e+17  7.035104e+01  4.880067e+04  3.853762e+01   \n",
       "std    3.743180e+05  1.308806e+18  1.603160e+02  2.689322e+04  5.075808e+00   \n",
       "min    0.000000e+00  6.041621e+10  1.000000e+00  1.257000e+03  2.002710e+01   \n",
       "25%    3.241685e+05  1.800429e+14  9.650000e+00  2.623700e+04  3.462050e+01   \n",
       "50%    6.483370e+05  3.521417e+15  4.752000e+01  4.817400e+04  3.935430e+01   \n",
       "75%    9.725055e+05  4.642255e+15  8.314000e+01  7.204200e+04  4.194040e+01   \n",
       "max    1.296674e+06  4.992346e+18  2.894890e+04  9.978300e+04  6.669330e+01   \n",
       "\n",
       "               long      city_pop     unix_time     merch_lat    merch_long  \\\n",
       "count  1.296675e+06  1.296675e+06  1.296675e+06  1.296675e+06  1.296675e+06   \n",
       "mean  -9.022634e+01  8.882444e+04  1.349244e+09  3.853734e+01 -9.022646e+01   \n",
       "std    1.375908e+01  3.019564e+05  1.284128e+07  5.109788e+00  1.377109e+01   \n",
       "min   -1.656723e+02  2.300000e+01  1.325376e+09  1.902779e+01 -1.666712e+02   \n",
       "25%   -9.679800e+01  7.430000e+02  1.338751e+09  3.473357e+01 -9.689728e+01   \n",
       "50%   -8.747690e+01  2.456000e+03  1.349250e+09  3.936568e+01 -8.743839e+01   \n",
       "75%   -8.015800e+01  2.032800e+04  1.359385e+09  4.195716e+01 -8.023680e+01   \n",
       "max   -6.795030e+01  2.906700e+06  1.371817e+09  6.751027e+01 -6.695090e+01   \n",
       "\n",
       "           is_fraud  \n",
       "count  1.296675e+06  \n",
       "mean   5.788652e-03  \n",
       "std    7.586269e-02  \n",
       "min    0.000000e+00  \n",
       "25%    0.000000e+00  \n",
       "50%    0.000000e+00  \n",
       "75%    0.000000e+00  \n",
       "max    1.000000e+00  "
      ]
     },
     "execution_count": 5,
     "metadata": {},
     "output_type": "execute_result"
    }
   ],
   "source": [
    "train_data.describe()"
   ]
  },
  {
   "cell_type": "markdown",
   "id": "8535c3c6",
   "metadata": {},
   "source": [
    "## Visualization of data"
   ]
  },
  {
   "cell_type": "code",
   "execution_count": 6,
   "id": "1d191d3f",
   "metadata": {},
   "outputs": [
    {
     "data": {
      "image/png": "[encoded data removed]",
      "text/plain": [
       "<Figure size 600x400 with 1 Axes>"
      ]
     },
     "metadata": {},
     "output_type": "display_data"
    }
   ],
   "source": [
    "import matplotlib.pyplot as plt\n",
    "\n",
    "# Count fraud and genuine\n",
    "counts = train_data['is_fraud'].value_counts().sort_index()\n",
    "labels = ['Genuine', 'Fraud']\n",
    "\n",
    "# Create bar plot\n",
    "plt.figure(figsize=(6, 4))\n",
    "plt.bar(labels, counts, color=['skyblue', 'black'])\n",
    "plt.title('Fraud vs Genuine Transactions')\n",
    "plt.xlabel('Transaction Type')\n",
    "plt.ylabel('Count')\n",
    "plt.grid(axis='y', linestyle='--', alpha=0.7)\n",
    "\n",
    "# Show values on top\n",
    "for i, v in enumerate(counts):\n",
    "    plt.text(i, v + 50, str(v), ha='center')\n",
    "\n",
    "plt.tight_layout()\n",
    "plt.show()\n"
   ]
  },
  {
   "cell_type": "markdown",
   "id": "566bf3bf",
   "metadata": {},
   "source": [
    "## Data Cleaning"
   ]
  },
  {
   "cell_type": "code",
   "execution_count": 7,
   "id": "9719f700",
   "metadata": {},
   "outputs": [],
   "source": [
    "cols = ['Unnamed: 0','cc_num','merchant','trans_num','unix_time','first','last','street','zip']\n",
    "train_data.drop(columns=cols,inplace=True)\n",
    "test_data.drop(columns=cols,inplace=True)"
   ]
  },
  {
   "cell_type": "code",
   "execution_count": 8,
   "id": "16a9c28b",
   "metadata": {},
   "outputs": [
    {
     "data": {
      "text/plain": [
       "((1296675, 14), (555719, 14))"
      ]
     },
     "execution_count": 8,
     "metadata": {},
     "output_type": "execute_result"
    }
   ],
   "source": [
    "train_data.shape,test_data.shape"
   ]
  },
  {
   "cell_type": "markdown",
   "id": "a8035080",
   "metadata": {},
   "source": [
    "### Handling date and time"
   ]
  },
  {
   "cell_type": "code",
   "execution_count": 9,
   "id": "265683cc",
   "metadata": {},
   "outputs": [],
   "source": [
    "train_data['trans_date_trans_time']=pd.to_datetime(train_data['trans_date_trans_time'])\n",
    "train_data['trans_date']=train_data['trans_date_trans_time'].dt.strftime('%Y-%m-%d')\n",
    "train_data['trans_date']=pd.to_datetime(train_data['trans_date'])\n",
    "train_data['dob']=pd.to_datetime(train_data['dob'])"
   ]
  },
  {
   "cell_type": "code",
   "execution_count": 10,
   "id": "2e52f09e",
   "metadata": {},
   "outputs": [],
   "source": [
    "test_data['trans_date_trans_time']=pd.to_datetime(test_data['trans_date_trans_time'])\n",
    "test_data['trans_date']=test_data['trans_date_trans_time'].dt.strftime('%Y-%m-%d')\n",
    "test_data['trans_date']=pd.to_datetime(test_data['trans_date'])\n",
    "test_data['dob']=pd.to_datetime(test_data['dob'])"
   ]
  },
  {
   "cell_type": "markdown",
   "id": "49024bbb",
   "metadata": {},
   "source": [
    "## Preprocessing data"
   ]
  },
  {
   "cell_type": "markdown",
   "id": "2cfdf618",
   "metadata": {},
   "source": [
    "test_data['trans_date']"
   ]
  },
  {
   "cell_type": "code",
   "execution_count": 11,
   "id": "40ffcccb",
   "metadata": {},
   "outputs": [
    {
     "data": {
      "application/vnd.microsoft.datawrangler.viewer.v0+json": {
       "columns": [
        {
         "name": "index",
         "rawType": "int64",
         "type": "integer"
        },
        {
         "name": "dob",
         "rawType": "datetime64[ns]",
         "type": "datetime"
        }
       ],
       "ref": "745a411a-bf09-4b09-afae-c90a62e26a36",
       "rows": [
        [
         "0",
         "1968-03-19 00:00:00"
        ],
        [
         "1",
         "1990-01-17 00:00:00"
        ],
        [
         "2",
         "1970-10-21 00:00:00"
        ],
        [
         "3",
         "1987-07-25 00:00:00"
        ],
        [
         "4",
         "1955-07-06 00:00:00"
        ],
        [
         "5",
         "1991-10-13 00:00:00"
        ],
        [
         "6",
         "1951-01-15 00:00:00"
        ],
        [
         "7",
         "1972-03-05 00:00:00"
        ],
        [
         "8",
         "1973-05-27 00:00:00"
        ],
        [
         "9",
         "1956-05-30 00:00:00"
        ],
        [
         "10",
         "1996-04-10 00:00:00"
        ],
        [
         "11",
         "1976-02-26 00:00:00"
        ],
        [
         "12",
         "1977-01-04 00:00:00"
        ],
        [
         "13",
         "1937-03-17 00:00:00"
        ],
        [
         "14",
         "1971-11-02 00:00:00"
        ],
        [
         "15",
         "1988-04-09 00:00:00"
        ],
        [
         "16",
         "1987-02-13 00:00:00"
        ],
        [
         "17",
         "1992-07-24 00:00:00"
        ],
        [
         "18",
         "1977-12-16 00:00:00"
        ],
        [
         "19",
         "1997-09-22 00:00:00"
        ],
        [
         "20",
         "1997-12-27 00:00:00"
        ],
        [
         "21",
         "1992-05-09 00:00:00"
        ],
        [
         "22",
         "1971-11-26 00:00:00"
        ],
        [
         "23",
         "1997-11-23 00:00:00"
        ],
        [
         "24",
         "1985-06-18 00:00:00"
        ],
        [
         "25",
         "1991-10-04 00:00:00"
        ],
        [
         "26",
         "1957-08-30 00:00:00"
        ],
        [
         "27",
         "1968-10-06 00:00:00"
        ],
        [
         "28",
         "1948-11-30 00:00:00"
        ],
        [
         "29",
         "1957-12-29 00:00:00"
        ],
        [
         "30",
         "1930-02-28 00:00:00"
        ],
        [
         "31",
         "1974-07-19 00:00:00"
        ],
        [
         "32",
         "1964-08-08 00:00:00"
        ],
        [
         "33",
         "1974-11-20 00:00:00"
        ],
        [
         "34",
         "1964-02-15 00:00:00"
        ],
        [
         "35",
         "1958-06-11 00:00:00"
        ],
        [
         "36",
         "1995-04-19 00:00:00"
        ],
        [
         "37",
         "1970-01-08 00:00:00"
        ],
        [
         "38",
         "1980-07-12 00:00:00"
        ],
        [
         "39",
         "1969-07-24 00:00:00"
        ],
        [
         "40",
         "1977-02-22 00:00:00"
        ],
        [
         "41",
         "1975-12-28 00:00:00"
        ],
        [
         "42",
         "1974-12-28 00:00:00"
        ],
        [
         "43",
         "1961-04-22 00:00:00"
        ],
        [
         "44",
         "1943-12-15 00:00:00"
        ],
        [
         "45",
         "1972-11-28 00:00:00"
        ],
        [
         "46",
         "1979-12-11 00:00:00"
        ],
        [
         "47",
         "1986-11-06 00:00:00"
        ],
        [
         "48",
         "1994-03-13 00:00:00"
        ],
        [
         "49",
         "1974-10-27 00:00:00"
        ]
       ],
       "shape": {
        "columns": 1,
        "rows": 555719
       }
      },
      "text/plain": [
       "0        1968-03-19\n",
       "1        1990-01-17\n",
       "2        1970-10-21\n",
       "3        1987-07-25\n",
       "4        1955-07-06\n",
       "            ...    \n",
       "555714   1966-02-13\n",
       "555715   1999-12-27\n",
       "555716   1981-11-29\n",
       "555717   1965-12-15\n",
       "555718   1993-05-10\n",
       "Name: dob, Length: 555719, dtype: datetime64[ns]"
      ]
     },
     "execution_count": 11,
     "metadata": {},
     "output_type": "execute_result"
    }
   ],
   "source": [
    "test_data['dob']"
   ]
  },
  {
   "cell_type": "code",
   "execution_count": 12,
   "id": "2f959886",
   "metadata": {},
   "outputs": [],
   "source": [
    "train_data[\"age\"] = train_data[\"trans_date\"]-train_data[\"dob\"]"
   ]
  },
  {
   "cell_type": "code",
   "execution_count": 13,
   "id": "904c290a",
   "metadata": {},
   "outputs": [],
   "source": [
    "train_data['age']=train_data['age']/365.25"
   ]
  },
  {
   "cell_type": "code",
   "execution_count": 14,
   "id": "11fa6337",
   "metadata": {},
   "outputs": [],
   "source": [
    "test_data[\"age\"] = test_data[\"trans_date\"]-test_data[\"dob\"]"
   ]
  },
  {
   "cell_type": "code",
   "execution_count": 15,
   "id": "5ec1a51c",
   "metadata": {},
   "outputs": [],
   "source": [
    "test_data[\"age\"]=test_data[\"age\"]/365.25"
   ]
  },
  {
   "cell_type": "code",
   "execution_count": 16,
   "id": "feded631",
   "metadata": {},
   "outputs": [],
   "source": [
    "train_data['trans_month'] = pd.DatetimeIndex(train_data['trans_date']).month\n",
    "train_data['trans_year'] = pd.DatetimeIndex(train_data['trans_date']).year"
   ]
  },
  {
   "cell_type": "code",
   "execution_count": 17,
   "id": "be69b486",
   "metadata": {},
   "outputs": [],
   "source": [
    "#Calculate distance between merchant and home location\n",
    "train_data['latitudinal_distance'] = abs(round(train_data['merch_lat']-train_data['lat'],3))\n",
    "train_data['longitudinal_distance'] = abs(round(train_data['merch_long']-train_data['long'],3))\n",
    "\n",
    "test_data['latitudinal_distance'] = abs(round(test_data['merch_lat']-test_data['lat'],3))\n",
    "test_data['longitudinal_distance'] = abs(round(test_data['merch_long']-test_data['long'],3))"
   ]
  },
  {
   "cell_type": "code",
   "execution_count": 18,
   "id": "88a25317",
   "metadata": {},
   "outputs": [],
   "source": [
    "#Drop Columns that are not relevant to predicy fraud transaction\n",
    "drop_columns = ['trans_date_trans_time','city','lat','long','job','dob','merch_lat','merch_long','trans_date','state']\n",
    "train_data.drop(columns=drop_columns,inplace=True)\n",
    "test_data.drop(columns=drop_columns,inplace=True)"
   ]
  },
  {
   "cell_type": "code",
   "execution_count": 19,
   "id": "0bb0d76c",
   "metadata": {},
   "outputs": [],
   "source": [
    "# Convert categorical column gender into numerical \n",
    "train_data.gender=train_data.gender.apply(lambda x: 1 if x==\"M\" else 0)\n",
    "test_data.gender=test_data.gender.apply(lambda x: 1 if x==\"M\" else 0)"
   ]
  },
  {
   "cell_type": "code",
   "execution_count": 20,
   "id": "3116749c",
   "metadata": {},
   "outputs": [],
   "source": [
    "#One Hot Encoding of Category column\n",
    "train_data = pd.get_dummies(train_data, columns=['category'], prefix='category')\n",
    "test_data = pd.get_dummies(test_data, columns=['category'], prefix='category')\n",
    "\n",
    "test_data = test_data.reindex(columns=train_data.columns, fill_value=0)"
   ]
  },
  {
   "cell_type": "code",
   "execution_count": 21,
   "id": "26f092e6",
   "metadata": {},
   "outputs": [
    {
     "data": {
      "application/vnd.microsoft.datawrangler.viewer.v0+json": {
       "columns": [
        {
         "name": "index",
         "rawType": "int64",
         "type": "integer"
        },
        {
         "name": "amt",
         "rawType": "float64",
         "type": "float"
        },
        {
         "name": "gender",
         "rawType": "int64",
         "type": "integer"
        },
        {
         "name": "city_pop",
         "rawType": "int64",
         "type": "integer"
        },
        {
         "name": "is_fraud",
         "rawType": "int64",
         "type": "integer"
        },
        {
         "name": "age",
         "rawType": "timedelta64[ns]",
         "type": "unknown"
        },
        {
         "name": "trans_month",
         "rawType": "int32",
         "type": "integer"
        },
        {
         "name": "trans_year",
         "rawType": "int32",
         "type": "integer"
        },
        {
         "name": "latitudinal_distance",
         "rawType": "float64",
         "type": "float"
        },
        {
         "name": "longitudinal_distance",
         "rawType": "float64",
         "type": "float"
        },
        {
         "name": "category_entertainment",
         "rawType": "bool",
         "type": "boolean"
        },
        {
         "name": "category_food_dining",
         "rawType": "bool",
         "type": "boolean"
        },
        {
         "name": "category_gas_transport",
         "rawType": "bool",
         "type": "boolean"
        },
        {
         "name": "category_grocery_net",
         "rawType": "bool",
         "type": "boolean"
        },
        {
         "name": "category_grocery_pos",
         "rawType": "bool",
         "type": "boolean"
        },
        {
         "name": "category_health_fitness",
         "rawType": "bool",
         "type": "boolean"
        },
        {
         "name": "category_home",
         "rawType": "bool",
         "type": "boolean"
        },
        {
         "name": "category_kids_pets",
         "rawType": "bool",
         "type": "boolean"
        },
        {
         "name": "category_misc_net",
         "rawType": "bool",
         "type": "boolean"
        },
        {
         "name": "category_misc_pos",
         "rawType": "bool",
         "type": "boolean"
        },
        {
         "name": "category_personal_care",
         "rawType": "bool",
         "type": "boolean"
        },
        {
         "name": "category_shopping_net",
         "rawType": "bool",
         "type": "boolean"
        },
        {
         "name": "category_shopping_pos",
         "rawType": "bool",
         "type": "boolean"
        },
        {
         "name": "category_travel",
         "rawType": "bool",
         "type": "boolean"
        }
       ],
       "ref": "3bb219d4-3041-4d52-927a-1fc299c6e001",
       "rows": [
        [
         "0",
         "4.97",
         "0",
         "3495",
         "0",
         "30 days 19:32:53.716632443",
         "1",
         "2019",
         "0.068",
         "0.87",
         "False",
         "False",
         "False",
         "False",
         "False",
         "False",
         "False",
         "False",
         "True",
         "False",
         "False",
         "False",
         "False",
         "False"
        ],
        [
         "1",
         "107.23",
         "0",
         "149",
         "0",
         "40 days 12:44:50.759753593",
         "1",
         "2019",
         "0.271",
         "0.024",
         "False",
         "False",
         "False",
         "False",
         "True",
         "False",
         "False",
         "False",
         "False",
         "False",
         "False",
         "False",
         "False",
         "False"
        ],
        [
         "2",
         "220.11",
         "1",
         "4154",
         "0",
         "56 days 22:48:02.956878850",
         "1",
         "2019",
         "0.97",
         "0.108",
         "True",
         "False",
         "False",
         "False",
         "False",
         "False",
         "False",
         "False",
         "False",
         "False",
         "False",
         "False",
         "False",
         "False"
        ],
        [
         "3",
         "45.0",
         "1",
         "1939",
         "0",
         "51 days 23:16:37.946611909",
         "1",
         "2019",
         "0.804",
         "0.447",
         "False",
         "False",
         "True",
         "False",
         "False",
         "False",
         "False",
         "False",
         "False",
         "False",
         "False",
         "False",
         "False",
         "False"
        ],
        [
         "4",
         "41.96",
         "1",
         "99",
         "0",
         "32 days 18:19:57.535934291",
         "1",
         "2019",
         "0.254",
         "0.83",
         "False",
         "False",
         "False",
         "False",
         "False",
         "False",
         "False",
         "False",
         "False",
         "True",
         "False",
         "False",
         "False",
         "False"
        ]
       ],
       "shape": {
        "columns": 23,
        "rows": 5
       }
      },
      "text/html": [
       "<div>\n",
       "<style scoped>\n",
       "    .dataframe tbody tr th:only-of-type {\n",
       "        vertical-align: middle;\n",
       "    }\n",
       "\n",
       "    .dataframe tbody tr th {\n",
       "        vertical-align: top;\n",
       "    }\n",
       "\n",
       "    .dataframe thead th {\n",
       "        text-align: right;\n",
       "    }\n",
       "</style>\n",
       "<table border=\"1\" class=\"dataframe\">\n",
       "  <thead>\n",
       "    <tr style=\"text-align: right;\">\n",
       "      <th></th>\n",
       "      <th>amt</th>\n",
       "      <th>gender</th>\n",
       "      <th>city_pop</th>\n",
       "      <th>is_fraud</th>\n",
       "      <th>age</th>\n",
       "      <th>trans_month</th>\n",
       "      <th>trans_year</th>\n",
       "      <th>latitudinal_distance</th>\n",
       "      <th>longitudinal_distance</th>\n",
       "      <th>category_entertainment</th>\n",
       "      <th>...</th>\n",
       "      <th>category_grocery_pos</th>\n",
       "      <th>category_health_fitness</th>\n",
       "      <th>category_home</th>\n",
       "      <th>category_kids_pets</th>\n",
       "      <th>category_misc_net</th>\n",
       "      <th>category_misc_pos</th>\n",
       "      <th>category_personal_care</th>\n",
       "      <th>category_shopping_net</th>\n",
       "      <th>category_shopping_pos</th>\n",
       "      <th>category_travel</th>\n",
       "    </tr>\n",
       "  </thead>\n",
       "  <tbody>\n",
       "    <tr>\n",
       "      <th>0</th>\n",
       "      <td>4.97</td>\n",
       "      <td>0</td>\n",
       "      <td>3495</td>\n",
       "      <td>0</td>\n",
       "      <td>30 days 19:32:53.716632443</td>\n",
       "      <td>1</td>\n",
       "      <td>2019</td>\n",
       "      <td>0.068</td>\n",
       "      <td>0.870</td>\n",
       "      <td>False</td>\n",
       "      <td>...</td>\n",
       "      <td>False</td>\n",
       "      <td>False</td>\n",
       "      <td>False</td>\n",
       "      <td>False</td>\n",
       "      <td>True</td>\n",
       "      <td>False</td>\n",
       "      <td>False</td>\n",
       "      <td>False</td>\n",
       "      <td>False</td>\n",
       "      <td>False</td>\n",
       "    </tr>\n",
       "    <tr>\n",
       "      <th>1</th>\n",
       "      <td>107.23</td>\n",
       "      <td>0</td>\n",
       "      <td>149</td>\n",
       "      <td>0</td>\n",
       "      <td>40 days 12:44:50.759753593</td>\n",
       "      <td>1</td>\n",
       "      <td>2019</td>\n",
       "      <td>0.271</td>\n",
       "      <td>0.024</td>\n",
       "      <td>False</td>\n",
       "      <td>...</td>\n",
       "      <td>True</td>\n",
       "      <td>False</td>\n",
       "      <td>False</td>\n",
       "      <td>False</td>\n",
       "      <td>False</td>\n",
       "      <td>False</td>\n",
       "      <td>False</td>\n",
       "      <td>False</td>\n",
       "      <td>False</td>\n",
       "      <td>False</td>\n",
       "    </tr>\n",
       "    <tr>\n",
       "      <th>2</th>\n",
       "      <td>220.11</td>\n",
       "      <td>1</td>\n",
       "      <td>4154</td>\n",
       "      <td>0</td>\n",
       "      <td>56 days 22:48:02.956878850</td>\n",
       "      <td>1</td>\n",
       "      <td>2019</td>\n",
       "      <td>0.970</td>\n",
       "      <td>0.108</td>\n",
       "      <td>True</td>\n",
       "      <td>...</td>\n",
       "      <td>False</td>\n",
       "      <td>False</td>\n",
       "      <td>False</td>\n",
       "      <td>False</td>\n",
       "      <td>False</td>\n",
       "      <td>False</td>\n",
       "      <td>False</td>\n",
       "      <td>False</td>\n",
       "      <td>False</td>\n",
       "      <td>False</td>\n",
       "    </tr>\n",
       "    <tr>\n",
       "      <th>3</th>\n",
       "      <td>45.00</td>\n",
       "      <td>1</td>\n",
       "      <td>1939</td>\n",
       "      <td>0</td>\n",
       "      <td>51 days 23:16:37.946611909</td>\n",
       "      <td>1</td>\n",
       "      <td>2019</td>\n",
       "      <td>0.804</td>\n",
       "      <td>0.447</td>\n",
       "      <td>False</td>\n",
       "      <td>...</td>\n",
       "      <td>False</td>\n",
       "      <td>False</td>\n",
       "      <td>False</td>\n",
       "      <td>False</td>\n",
       "      <td>False</td>\n",
       "      <td>False</td>\n",
       "      <td>False</td>\n",
       "      <td>False</td>\n",
       "      <td>False</td>\n",
       "      <td>False</td>\n",
       "    </tr>\n",
       "    <tr>\n",
       "      <th>4</th>\n",
       "      <td>41.96</td>\n",
       "      <td>1</td>\n",
       "      <td>99</td>\n",
       "      <td>0</td>\n",
       "      <td>32 days 18:19:57.535934291</td>\n",
       "      <td>1</td>\n",
       "      <td>2019</td>\n",
       "      <td>0.254</td>\n",
       "      <td>0.830</td>\n",
       "      <td>False</td>\n",
       "      <td>...</td>\n",
       "      <td>False</td>\n",
       "      <td>False</td>\n",
       "      <td>False</td>\n",
       "      <td>False</td>\n",
       "      <td>False</td>\n",
       "      <td>True</td>\n",
       "      <td>False</td>\n",
       "      <td>False</td>\n",
       "      <td>False</td>\n",
       "      <td>False</td>\n",
       "    </tr>\n",
       "  </tbody>\n",
       "</table>\n",
       "<p>5 rows × 23 columns</p>\n",
       "</div>"
      ],
      "text/plain": [
       "      amt  gender  city_pop  is_fraud                        age  trans_month  \\\n",
       "0    4.97       0      3495         0 30 days 19:32:53.716632443            1   \n",
       "1  107.23       0       149         0 40 days 12:44:50.759753593            1   \n",
       "2  220.11       1      4154         0 56 days 22:48:02.956878850            1   \n",
       "3   45.00       1      1939         0 51 days 23:16:37.946611909            1   \n",
       "4   41.96       1        99         0 32 days 18:19:57.535934291            1   \n",
       "\n",
       "   trans_year  latitudinal_distance  longitudinal_distance  \\\n",
       "0        2019                 0.068                  0.870   \n",
       "1        2019                 0.271                  0.024   \n",
       "2        2019                 0.970                  0.108   \n",
       "3        2019                 0.804                  0.447   \n",
       "4        2019                 0.254                  0.830   \n",
       "\n",
       "   category_entertainment  ...  category_grocery_pos  category_health_fitness  \\\n",
       "0                   False  ...                 False                    False   \n",
       "1                   False  ...                  True                    False   \n",
       "2                    True  ...                 False                    False   \n",
       "3                   False  ...                 False                    False   \n",
       "4                   False  ...                 False                    False   \n",
       "\n",
       "   category_home  category_kids_pets  category_misc_net  category_misc_pos  \\\n",
       "0          False               False               True              False   \n",
       "1          False               False              False              False   \n",
       "2          False               False              False              False   \n",
       "3          False               False              False              False   \n",
       "4          False               False              False               True   \n",
       "\n",
       "   category_personal_care  category_shopping_net  category_shopping_pos  \\\n",
       "0                   False                  False                  False   \n",
       "1                   False                  False                  False   \n",
       "2                   False                  False                  False   \n",
       "3                   False                  False                  False   \n",
       "4                   False                  False                  False   \n",
       "\n",
       "   category_travel  \n",
       "0            False  \n",
       "1            False  \n",
       "2            False  \n",
       "3            False  \n",
       "4            False  \n",
       "\n",
       "[5 rows x 23 columns]"
      ]
     },
     "execution_count": 21,
     "metadata": {},
     "output_type": "execute_result"
    }
   ],
   "source": [
    "train_data.head()"
   ]
  },
  {
   "cell_type": "code",
   "execution_count": 22,
   "id": "1d39fc84",
   "metadata": {},
   "outputs": [],
   "source": [
    "train_data.to_csv('cleaned_train_data.csv')\n",
    "test_data.to_csv('cleaned_test_data.csv')"
   ]
  },
  {
   "cell_type": "code",
   "execution_count": 23,
   "id": "d53bdf92",
   "metadata": {},
   "outputs": [],
   "source": [
    "train_data['age']=train_data['age'].dt.days"
   ]
  },
  {
   "cell_type": "code",
   "execution_count": 24,
   "id": "33b2e099",
   "metadata": {},
   "outputs": [],
   "source": [
    "test_data['age']=test_data['age'].dt.days"
   ]
  },
  {
   "cell_type": "markdown",
   "id": "b3971320",
   "metadata": {},
   "source": [
    "# Splitting the data"
   ]
  },
  {
   "cell_type": "code",
   "execution_count": 25,
   "id": "9c29c979",
   "metadata": {},
   "outputs": [],
   "source": [
    "x_train = train_data.drop('is_fraud', axis=1)\n",
    "y_train = train_data['is_fraud']\n",
    "x_test = test_data.drop('is_fraud', axis=1)\n",
    "y_test = test_data['is_fraud']"
   ]
  },
  {
   "cell_type": "markdown",
   "id": "c598d9a9",
   "metadata": {},
   "source": [
    "# Imbalance"
   ]
  },
  {
   "cell_type": "code",
   "execution_count": 26,
   "id": "742655e6",
   "metadata": {},
   "outputs": [],
   "source": [
    "from imblearn.over_sampling import SMOTE\n",
    "\n",
    "smote = SMOTE(random_state=42)\n",
    "\n",
    "x_train, y_train = smote.fit_resample(x_train, y_train)"
   ]
  },
  {
   "cell_type": "code",
   "execution_count": 27,
   "id": "d42c8b47",
   "metadata": {},
   "outputs": [],
   "source": [
    "from sklearn.preprocessing import StandardScaler\n",
    "\n",
    "scaler = StandardScaler()\n",
    "scaler.fit(x_train)\n",
    "\n",
    "x_train = scaler.transform(x_train)\n",
    "x_test = scaler.transform(x_test)"
   ]
  },
  {
   "cell_type": "markdown",
   "id": "0136b335",
   "metadata": {},
   "source": [
    "# Random Forest Classifer "
   ]
  },
  {
   "cell_type": "code",
   "execution_count": 29,
   "id": "8b1e7c7e",
   "metadata": {},
   "outputs": [
    {
     "name": "stdout",
     "output_type": "stream",
     "text": [
      "Accuracy : 0.9965954016328397\n"
     ]
    }
   ],
   "source": [
    "from sklearn.ensemble import RandomForestClassifier\n",
    "from sklearn.metrics import accuracy_score\n",
    "\n",
    "clf = RandomForestClassifier(n_estimators=100, random_state=42)\n",
    "clf.fit(x_train, y_train)\n",
    "\n",
    "y_pred = clf.predict(x_test)\n",
    "print(f'Accuracy : {accuracy_score(y_pred, y_test)}')\n"
   ]
  },
  {
   "cell_type": "code",
   "execution_count": 32,
   "id": "9867758c",
   "metadata": {},
   "outputs": [
    {
     "name": "stdout",
     "output_type": "stream",
     "text": [
      "              precision    recall  f1-score   support\n",
      "\n",
      "           0       1.00      1.00      1.00    553574\n",
      "           1       0.54      0.79      0.64      2145\n",
      "\n",
      "    accuracy                           1.00    555719\n",
      "   macro avg       0.77      0.90      0.82    555719\n",
      "weighted avg       1.00      1.00      1.00    555719\n",
      "\n"
     ]
    }
   ],
   "source": [
    "from sklearn.metrics import classification_report\n",
    "\n",
    "report = classification_report(y_test, y_pred)\n",
    "print(report)\n"
   ]
  },
  {
   "cell_type": "markdown",
   "id": "51ac7e4c",
   "metadata": {},
   "source": [
    "# saving the model"
   ]
  },
  {
   "cell_type": "code",
   "execution_count": 31,
   "id": "145222e5",
   "metadata": {},
   "outputs": [],
   "source": [
    "import pickle\n",
    "pickle.dump(clf,open('random_forest_model.pkl','wb'))"
   ]
  }
 ],
 "metadata": {
  "kernelspec": {
   "display_name": "base",
   "language": "python",
   "name": "python3"
  },
  "language_info": {
   "codemirror_mode": {
    "name": "ipython",
    "version": 3
   },
   "file_extension": ".py",
   "mimetype": "text/x-python",
   "name": "python",
   "nbconvert_exporter": "python",
   "pygments_lexer": "ipython3",
   "version": "3.12.7"
  }
 },
 "nbformat": 4,
 "nbformat_minor": 5
}
